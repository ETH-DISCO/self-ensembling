{
 "cells": [
  {
   "cell_type": "code",
   "execution_count": 6,
   "metadata": {},
   "outputs": [
    {
     "ename": "AttributeError",
     "evalue": "'Imagenette' object has no attribute 'targets'",
     "output_type": "error",
     "traceback": [
      "\u001b[0;31m---------------------------------------------------------------------------\u001b[0m",
      "\u001b[0;31mAttributeError\u001b[0m                            Traceback (most recent call last)",
      "Cell \u001b[0;32mIn[6], line 55\u001b[0m\n\u001b[1;32m     52\u001b[0m \u001b[38;5;28;01melse\u001b[39;00m:\n\u001b[1;32m     53\u001b[0m     \u001b[38;5;28;01massert\u001b[39;00m \u001b[38;5;28;01mFalse\u001b[39;00m\n\u001b[0;32m---> 55\u001b[0m \u001b[38;5;28mprint\u001b[39m(\u001b[43mtrainset\u001b[49m\u001b[38;5;241;43m.\u001b[39;49m\u001b[43mtargets\u001b[49m)\n\u001b[1;32m     57\u001b[0m images_train_np \u001b[38;5;241m=\u001b[39m original_images_train_np \u001b[38;5;241m/\u001b[39m \u001b[38;5;241m255.0\u001b[39m  \u001b[38;5;66;03m# scale to [0, 1]\u001b[39;00m\n\u001b[1;32m     58\u001b[0m images_test_np \u001b[38;5;241m=\u001b[39m original_images_test_np \u001b[38;5;241m/\u001b[39m \u001b[38;5;241m255.0\u001b[39m\n",
      "\u001b[0;31mAttributeError\u001b[0m: 'Imagenette' object has no attribute 'targets'"
     ]
    }
   ],
   "source": [
    "import json\n",
    "import copy\n",
    "import gc\n",
    "import os\n",
    "import random\n",
    "from contextlib import contextmanager\n",
    "from pathlib import Path\n",
    "\n",
    "import matplotlib.pyplot as plt\n",
    "import numpy as np\n",
    "import torch\n",
    "import torch.nn as nn\n",
    "import torch.nn.functional as F\n",
    "import torch.optim as optim\n",
    "import torchvision\n",
    "import torchvision.datasets as datasets\n",
    "from torchvision import datasets\n",
    "from torchvision.models import ResNet152_Weights, resnet152\n",
    "from tqdm import tqdm\n",
    "\n",
    "classes_path = Path.cwd().parent / \"data\"\n",
    "dataset_path = Path.cwd().parent / \"datasets\"\n",
    "weights_path = Path.cwd().parent / \"weights\"\n",
    "\n",
    "os.makedirs(classes_path, exist_ok=True)\n",
    "os.makedirs(dataset_path, exist_ok=True)\n",
    "os.makedirs(weights_path, exist_ok=True)\n",
    "\n",
    "\n",
    "dataset = \"imagenette\"\n",
    "\n",
    "if dataset == \"cifar10\":\n",
    "    trainset = datasets.CIFAR10(root=dataset_path, train=True, download=True)\n",
    "    testset = datasets.CIFAR10(root=dataset_path, train=False, download=True)\n",
    "    original_images_train_np = np.array(trainset.data)\n",
    "    original_labels_train_np = np.array(trainset.targets)\n",
    "    original_images_test_np = np.array(testset.data)\n",
    "    original_labels_test_np = np.array(testset.targets)\n",
    "    classes = json.loads((classes_path / \"cifar10_classes.json\").read_text())\n",
    "elif dataset == \"cifar100\":\n",
    "    trainset = datasets.CIFAR100(root=dataset_path, train=True, download=True)\n",
    "    testset = datasets.CIFAR100(root=dataset_path, train=False, download=True)\n",
    "    original_images_train_np = np.array(trainset.data)\n",
    "    original_labels_train_np = np.array(trainset.targets)\n",
    "    original_images_test_np = np.array(testset.data)\n",
    "    original_labels_test_np = np.array(testset.targets)\n",
    "    classes = json.loads((classes_path / \"cifar100_classes.json\").read_text())\n",
    "elif dataset == \"imagenette\":\n",
    "    trainset = datasets.Imagenette(root=dataset_path, split=\"train\", download=(dataset_path / \"imagenette\").exists())\n",
    "    testset = datasets.Imagenette(root=dataset_path, split=\"val\", download=(dataset_path / \"imagenette\").exists())\n",
    "    train_images = [image for image, _ in trainset]\n",
    "    train_targets = [target for _, target in trainset]\n",
    "    test_images = [image for image, _ in testset]\n",
    "    test_targets = [target for _, target in testset]\n",
    "    train_images = torch.stack(train_images).numpy()\n",
    "    train_targets = torch.tensor(train_targets).numpy()\n",
    "    test_images = torch.stack(test_images).numpy() \n",
    "    test_targets = torch.tensor(test_targets).numpy()\n",
    "    classes = json.loads((classes_path / \"imagenette_classes.json\").read_text())\n",
    "else:\n",
    "    assert False\n",
    "\n",
    "images_train_np = original_images_train_np / 255.0  # scale to [0, 1]\n",
    "images_test_np = original_images_test_np / 255.0\n",
    "labels_train_np = original_labels_train_np\n",
    "labels_test_np = original_labels_test_np\n"
   ]
  },
  {
   "cell_type": "code",
   "execution_count": null,
   "metadata": {},
   "outputs": [],
   "source": []
  }
 ],
 "metadata": {
  "kernelspec": {
   "display_name": ".venv",
   "language": "python",
   "name": "python3"
  },
  "language_info": {
   "codemirror_mode": {
    "name": "ipython",
    "version": 3
   },
   "file_extension": ".py",
   "mimetype": "text/x-python",
   "name": "python",
   "nbconvert_exporter": "python",
   "pygments_lexer": "ipython3",
   "version": "3.11.9"
  }
 },
 "nbformat": 4,
 "nbformat_minor": 2
}
