{
 "cells": [
  {
   "cell_type": "code",
   "execution_count": 9,
   "metadata": {},
   "outputs": [
    {
     "name": "stdout",
     "output_type": "stream",
     "text": [
      "CIFAR-10\n",
      "\t{'config': {'dataset': 'cifar10', 'lr': 0.0001, 'num_epochs': 16, 'crossmax_k': 3}, 'accuracy': 0.8603, 'precision': 0.8615294777135712, 'recall': 0.8603, 'f1_score': 0.8606065623146324}\n",
      "\t{'config': {'dataset': 'cifar10', 'lr': 0.0001, 'num_epochs': 16, 'crossmax_k': 2}, 'accuracy': 0.8591, 'precision': 0.8606350875640334, 'recall': 0.8591, 'f1_score': 0.8592768517753899}\n",
      "\t{'config': {'dataset': 'cifar10', 'lr': 0.1, 'num_epochs': 4, 'crossmax_k': 3}, 'accuracy': 0.8546, 'precision': 0.8573104489349216, 'recall': 0.8546, 'f1_score': 0.8546433925131365}\n",
      "\t{'config': {'dataset': 'cifar10', 'lr': 0.1, 'num_epochs': 8, 'crossmax_k': 3}, 'accuracy': 0.853, 'precision': 0.8558170648396317, 'recall': 0.853, 'f1_score': 0.8531090571005374}\n",
      "\t{'config': {'dataset': 'cifar10', 'lr': 0.1, 'num_epochs': 8, 'crossmax_k': 2}, 'accuracy': 0.8527, 'precision': 0.8599223332237443, 'recall': 0.8527, 'f1_score': 0.8534217100160948}\n",
      "CIFAR-100\n",
      "\t{'config': {'dataset': 'cifar100', 'lr': 0.0001, 'num_epochs': 16, 'crossmax_k': 2}, 'accuracy': 0.5732, 'precision': 0.6455824749528081, 'recall': 0.5732, 'f1_score': 0.5711079773233803}\n",
      "\t{'config': {'dataset': 'cifar100', 'lr': 0.0001, 'num_epochs': 16, 'crossmax_k': 3}, 'accuracy': 0.5529, 'precision': 0.6606449942663403, 'recall': 0.5529, 'f1_score': 0.5668403763474433}\n",
      "\t{'config': {'dataset': 'cifar100', 'lr': 0.0001, 'num_epochs': 8, 'crossmax_k': 2}, 'accuracy': 0.5323, 'precision': 0.644091667073477, 'recall': 0.5323, 'f1_score': 0.5320562784792109}\n",
      "\t{'config': {'dataset': 'cifar100', 'lr': 1.7e-05, 'num_epochs': 16, 'crossmax_k': 3}, 'accuracy': 0.5282, 'precision': 0.6220304254250173, 'recall': 0.5282, 'f1_score': 0.5257849803208616}\n",
      "\t{'config': {'dataset': 'cifar100', 'lr': 0.0001, 'num_epochs': 8, 'crossmax_k': 3}, 'accuracy': 0.5229, 'precision': 0.6534192870248902, 'recall': 0.5229, 'f1_score': 0.5294123679678739}\n"
     ]
    }
   ],
   "source": [
    "import json\n",
    "from pathlib import Path\n",
    "\n",
    "output_path = Path.cwd().parent / \"data\" / \"hyperparams.jsonl\"\n",
    "\n",
    "hyperparams = []\n",
    "for line in output_path.open():\n",
    "    config = json.loads(line)\n",
    "    hyperparams.append(config)\n",
    "\n",
    "\n",
    "cifar10 = [elem for elem in hyperparams if elem[\"config\"][\"dataset\"] == \"cifar10\"]\n",
    "cifar100 = [elem for elem in hyperparams if elem[\"config\"][\"dataset\"] == \"cifar100\"]\n",
    "\n",
    "cifar10 = sorted(cifar10, key=lambda x: x[\"accuracy\"], reverse=True)\n",
    "cifar100 = sorted(cifar100, key=lambda x: x[\"accuracy\"], reverse=True)\n",
    "\n",
    "print(\"CIFAR-10\")\n",
    "for elem in cifar10[:5]:\n",
    "    print(f\"\\t{elem}\")\n",
    "\n",
    "print(\"CIFAR-100\")\n",
    "for elem in cifar100[:5]:\n",
    "    print(f\"\\t{elem}\")"
   ]
  },
  {
   "cell_type": "markdown",
   "metadata": {},
   "source": [
    "for both datasets:\n",
    "\n",
    "- `lr = 0.0001`\n",
    "- `num_epochs = 16` (higher would be even better, but maybe by <1%)\n",
    "- `crossmax_k = 2` (difference between crossmax_k=2 and crossmax_k=3 is about 1-2%, so it's not a big deal)\n"
   ]
  },
  {
   "cell_type": "code",
   "execution_count": null,
   "metadata": {},
   "outputs": [],
   "source": []
  }
 ],
 "metadata": {
  "kernelspec": {
   "display_name": ".venv",
   "language": "python",
   "name": "python3"
  },
  "language_info": {
   "codemirror_mode": {
    "name": "ipython",
    "version": 3
   },
   "file_extension": ".py",
   "mimetype": "text/x-python",
   "name": "python",
   "nbconvert_exporter": "python",
   "pygments_lexer": "ipython3",
   "version": "3.11.9"
  }
 },
 "nbformat": 4,
 "nbformat_minor": 2
}
