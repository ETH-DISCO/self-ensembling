{
 "cells": [
  {
   "cell_type": "markdown",
   "metadata": {},
   "source": [
    "we want to show how much classes have been \"moved\" by the attack\n",
    "\n",
    "- get 100 samples from each class\n",
    "- for all layers: forward to layer, then dump latents instead of linear probe -> stack latents for all images\n",
    "- repeat also with perturbed images (masks)\n",
    "\n",
    "plot:\n",
    "\n",
    "- make tsne / umap plot\n",
    "- only fit to unperturbed images, not to perturbed images: https://umap-learn.readthedocs.io/en/latest/transform.html\n",
    "- use color/shape to encode whether they're perturbed/unperturbed and the class\n"
   ]
  },
  {
   "cell_type": "markdown",
   "metadata": {},
   "source": []
  }
 ],
 "metadata": {
  "kernelspec": {
   "display_name": "R",
   "language": "R",
   "name": "ir"
  },
  "language_info": {
   "name": "R"
  }
 },
 "nbformat": 4,
 "nbformat_minor": 2
}
