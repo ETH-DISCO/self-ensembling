{
 "cells": [
  {
   "cell_type": "code",
   "execution_count": 354,
   "metadata": {},
   "outputs": [
    {
     "data": {
      "image/png": "[encoded data removed]",
      "text/plain": [
       "<Figure size 600x500 with 2 Axes>"
      ]
     },
     "metadata": {},
     "output_type": "display_data"
    }
   ],
   "source": [
    "import matplotlib.pyplot as plt\n",
    "from matplotlib.patches import ConnectionPatch\n",
    "\n",
    "plt.rcParams.update(\n",
    "    {\n",
    "        \"font.family\": \"serif\",\n",
    "        \"text.usetex\": True,\n",
    "        \"pgf.rcfonts\": False,\n",
    "        \"pgf.texsystem\": \"pdflatex\",\n",
    "        \"pgf.preamble\": r\"\\usepackage{amsmath,amssymb,mathrsfs,graphicx}\",\n",
    "    }\n",
    ")\n",
    "fig, (ax1, ax2) = plt.subplots(1, 2, figsize=(6, 5))\n",
    "\n",
    "#\n",
    "# image space\n",
    "#\n",
    "\n",
    "ax1.set_xlim(-0.5, 3.5)\n",
    "ax1.set_ylim(-0.5, 3.5)\n",
    "ax1.set_aspect(\"equal\")\n",
    "\n",
    "ax1.text(1.5, 3.2, r\"$\\Delta$ \\textbf{Image Space}\", ha=\"center\", va=\"center\")\n",
    "ax1.text(1.7, -0.2, r\"change of quality (e.g. fur color)\", ha=\"center\", va=\"center\")\n",
    "ax1.text(-0.2, 2.4, r\"change of label\", ha=\"center\", va=\"center\", rotation=90)\n",
    "\n",
    "ax1.annotate(\"\", xy=(2, 2), xytext=(1, 2), arrowprops=dict(arrowstyle=\"->\", color=\"lightblue\"))\n",
    "ax1.annotate(\"\", xy=(1, 1), xytext=(1, 2), arrowprops=dict(arrowstyle=\"->\", color=\"lightgreen\"))\n",
    "\n",
    "ax1.arrow(0, 0, 3, 0, head_width=0.05, head_length=0.05, fc=\"k\", ec=\"k\")\n",
    "ax1.text(1.7, 2.5, r\"\\textit{preserving semantics}\", ha=\"center\", va=\"center\")\n",
    "ax1.arrow(0, 0, 0, 3, head_width=0.05, head_length=0.05, fc=\"k\", ec=\"k\")\n",
    "ax1.text(0.5, 1.4, r\"\\textit{changing semantics}\", ha=\"center\", va=\"center\", rotation=90)\n",
    "\n",
    "ax1.text(1, 2.15, r\"origin\", ha=\"center\", va=\"center\")\n",
    "ax1.scatter(\n",
    "    [1, 1, 2],  # x values\n",
    "    [2, 1, 2],  # y values\n",
    "    color=\"k\",\n",
    "    s=20,\n",
    "    zorder=10,\n",
    ")\n",
    "\n",
    "#\n",
    "# latent space\n",
    "#\n",
    "\n",
    "ax2.set_xlim(6.5, 10.5)\n",
    "ax2.set_ylim(-0.5, 3.5)\n",
    "ax2.set_aspect(\"equal\")\n",
    "\n",
    "ax2.text(8.5, 3.2, r\"$\\Delta$ \\textbf{Latent Space}\", ha=\"center\", va=\"center\")\n",
    "ax2.text(10, -0.2, r\"$x$\", ha=\"center\", va=\"center\")\n",
    "ax2.text(6.8, 3, r\"$y$\", ha=\"center\", va=\"center\")\n",
    "\n",
    "ax2.arrow(7, 0, 3, 0, head_width=0.05, head_length=0.05, fc=\"k\", ec=\"k\")\n",
    "ax2.arrow(7, 0, 0, 3, head_width=0.05, head_length=0.05, fc=\"k\", ec=\"k\")\n",
    "\n",
    "ax2.text(8.6, 2.5, r\"\\textit{preserving semantics}\", ha=\"center\", va=\"center\")\n",
    "ax2.text(8.6, 0.7, r\"\\textit{changing semantics}\", ha=\"center\", va=\"center\")\n",
    "\n",
    "ax2.scatter([8, 8.2, 8.5], [2, 2.1, 1], color=\"k\", s=20, zorder=10)\n",
    "\n",
    "ax2.annotate(\"\", xy=(8.2, 2.1), xytext=(8, 2), arrowprops=dict(arrowstyle=\"->\", color=\"lightblue\"))\n",
    "ax2.annotate(\"\", xy=(8.5, 1), xytext=(8, 2), arrowprops=dict(arrowstyle=\"->\", color=\"lightgreen\"))\n",
    "ax2.text(7.55, 2, r\"origin\", ha=\"center\", va=\"center\")\n",
    "\n",
    "#\n",
    "# connecting arrow\n",
    "#\n",
    "\n",
    "con = ConnectionPatch(xyA=(3, 1.5), xyB=(7, 1.5), coordsA=\"data\", coordsB=\"data\", axesA=ax1, axesB=ax2, arrowstyle=\"-|>\", mutation_scale=15, fc=\"k\", ec=\"k\", lw=1, zorder=10)\n",
    "fig.add_artist(con)\n",
    "fig.text(0.5, 0.53, r\"\\textit{Encoding}\", ha=\"center\", va=\"center\")\n",
    "\n",
    "ax1.axis(\"off\")\n",
    "ax2.axis(\"off\")\n",
    "plt.tight_layout()\n",
    "plt.show()\n",
    "fig.savefig(\"latents.pdf\", bbox_inches=\"tight\")"
   ]
  },
  {
   "cell_type": "code",
   "execution_count": null,
   "metadata": {},
   "outputs": [],
   "source": []
  }
 ],
 "metadata": {
  "kernelspec": {
   "display_name": ".venv",
   "language": "python",
   "name": "python3"
  },
  "language_info": {
   "codemirror_mode": {
    "name": "ipython",
    "version": 3
   },
   "file_extension": ".py",
   "mimetype": "text/x-python",
   "name": "python",
   "nbconvert_exporter": "python",
   "pygments_lexer": "ipython3",
   "version": "3.11.9"
  }
 },
 "nbformat": 4,
 "nbformat_minor": 2
}
