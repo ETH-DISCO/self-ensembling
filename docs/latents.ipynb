{
 "cells": [
  {
   "cell_type": "code",
   "execution_count": 32,
   "metadata": {},
   "outputs": [
    {
     "data": {
      "image/png": "[encoded data removed]",
      "text/plain": [
       "<Figure size 900x500 with 2 Axes>"
      ]
     },
     "metadata": {},
     "output_type": "display_data"
    }
   ],
   "source": [
    "import matplotlib.pyplot as plt\n",
    "from matplotlib.patches import ConnectionPatch\n",
    "\n",
    "plt.rcParams.update({\n",
    "    \"font.family\": \"serif\",\n",
    "    \"text.usetex\": True,\n",
    "    \"pgf.rcfonts\": False,\n",
    "    \"pgf.texsystem\": \"pdflatex\",\n",
    "    \"pgf.preamble\": r\"\\usepackage{amsmath,amssymb,mathrsfs,graphicx}\",\n",
    "})\n",
    "fig, (ax1, ax2) = plt.subplots(1, 2, figsize=(9, 5))\n",
    "\n",
    "# Image Space\n",
    "ax1.set_xlim(-0.5, 3.5)\n",
    "ax1.set_ylim(-0.5, 3.5)\n",
    "ax1.set_aspect('equal')\n",
    "\n",
    "ax1.text(1.5, 3.2, r'\\textbf{Image Space}', ha='center', va='center')\n",
    "ax1.annotate('', xy=(2, 2), xytext=(1, 2), arrowprops=dict(arrowstyle='->'))\n",
    "ax1.annotate('', xy=(1, 1), xytext=(1, 2), arrowprops=dict(arrowstyle='->'))\n",
    "\n",
    "ax1.scatter([1, 1, 2], [2, 1, 2], color='k', s=20)\n",
    "\n",
    "ax1.arrow(0, 0, 3, 0, head_width=0.1, head_length=0.1, fc='k', ec='k')\n",
    "ax1.text(1.5, 2.25, r'\\textit{semantics changing}', ha='center', va='center')\n",
    "ax1.arrow(0, 0, 0, 3, head_width=0.1, head_length=0.1, fc='k', ec='k')\n",
    "ax1.text(0.75, 1.5, r'\\textit{semantics preserving}', ha='center', va='center', rotation=90)\n",
    "\n",
    "# Latent Space\n",
    "ax2.set_xlim(6.5, 10.5)\n",
    "ax2.set_ylim(-0.5, 3.5)\n",
    "ax2.set_aspect('equal')\n",
    "\n",
    "ax2.text(8.5, 3.2, r'\\textbf{Latent Space}', ha='center', va='center')\n",
    "ax2.text(10, -0.2, r'$x$', ha='center', va='center')\n",
    "ax2.text(6.8, 3, r'$y$', ha='center', va='center')\n",
    "\n",
    "ax2.arrow(7, 0, 3, 0, head_width=0.1, head_length=0.1, fc='k', ec='k')\n",
    "ax2.arrow(7, 0, 0, 3, head_width=0.1, head_length=0.1, fc='k', ec='k')\n",
    "\n",
    "ax2.scatter([8, 9], [1, 2], color='k', s=20)\n",
    "\n",
    "# connecting arrow\n",
    "con = ConnectionPatch(xyA=(3, 1.5), xyB=(7, 1.5), coordsA=\"data\", coordsB=\"data\", axesA=ax1, axesB=ax2, arrowstyle=\"-|>\", mutation_scale=15, fc=\"k\", ec=\"k\", lw=1)\n",
    "fig.add_artist(con)\n",
    "fig.text(0.5, 0.52, r'\\textit{Encoding}', ha='center', va='center')\n",
    "\n",
    "ax1.axis('off')\n",
    "ax2.axis('off')\n",
    "plt.tight_layout()\n",
    "plt.show()\n",
    "fig.savefig(\"latents.pdf\", bbox_inches='tight')"
   ]
  },
  {
   "cell_type": "code",
   "execution_count": null,
   "metadata": {},
   "outputs": [],
   "source": []
  }
 ],
 "metadata": {
  "kernelspec": {
   "display_name": ".venv",
   "language": "python",
   "name": "python3"
  },
  "language_info": {
   "codemirror_mode": {
    "name": "ipython",
    "version": 3
   },
   "file_extension": ".py",
   "mimetype": "text/x-python",
   "name": "python",
   "nbconvert_exporter": "python",
   "pygments_lexer": "ipython3",
   "version": "3.11.9"
  }
 },
 "nbformat": 4,
 "nbformat_minor": 2
}
