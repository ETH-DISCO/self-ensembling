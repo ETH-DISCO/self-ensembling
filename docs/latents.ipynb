{
 "cells": [
  {
   "cell_type": "code",
   "execution_count": 70,
   "metadata": {},
   "outputs": [
    {
     "name": "stderr",
     "output_type": "stream",
     "text": [
      "/var/folders/p6/sy85mkz13lsffnvz7237y4340000gn/T/ipykernel_20149/1988804875.py:53: UserWarning: FigureCanvasPgf is non-interactive, and thus cannot be shown\n",
      "  plt.show()\n"
     ]
    }
   ],
   "source": [
    "import matplotlib.pyplot as plt\n",
    "from matplotlib.patches import ConnectionPatch\n",
    "\n",
    "plt.rcParams.update({\n",
    "    \"font.family\": \"serif\",\n",
    "    \"text.usetex\": True,\n",
    "    \"pgf.rcfonts\": False,\n",
    "    \"pgf.texsystem\": \"pdflatex\",\n",
    "    \"pgf.preamble\": r\"\\usepackage{amsmath,amssymb,mathrsfs}\",\n",
    "})\n",
    "fig, (ax1, ax2) = plt.subplots(1, 2, figsize=(9, 5))\n",
    "\n",
    "# Image Space\n",
    "ax1.set_xlim(-0.5, 3.5)\n",
    "ax1.set_ylim(-0.5, 3.5)\n",
    "ax1.set_aspect('equal')\n",
    "\n",
    "ax1.arrow(0, 0, 3, 0, head_width=0.1, head_length=0.1, fc='k', ec='k')\n",
    "ax1.arrow(0, 0, 0, 3, head_width=0.1, head_length=0.1, fc='k', ec='k')\n",
    "ax1.text(1.5, 2.25, r'\\textit{semantics changing}', ha='center', va='center')\n",
    "ax1.text(0.75, 1.5, r'\\rotatebox{90}{\\textit{semantics preserving}}', ha='center', va='center')\n",
    "\n",
    "ax1.text(3, -0.2, r'$x$', ha='center', va='center')\n",
    "ax1.text(-0.2, 3, r'$y$', ha='center', va='center')\n",
    "ax1.text(1.5, 3.2, r'\\textbf{Image Space}', ha='center', va='center')\n",
    "\n",
    "ax1.scatter([1, 1, 2], [2, 1, 2], color='k', s=20)\n",
    "ax1.annotate('', xy=(2, 2), xytext=(1, 2), arrowprops=dict(arrowstyle='->'))\n",
    "ax1.annotate('', xy=(1, 1), xytext=(1, 2), arrowprops=dict(arrowstyle='->'))\n",
    "\n",
    "# Latent Space\n",
    "ax2.set_xlim(6.5, 10.5)\n",
    "ax2.set_ylim(-0.5, 3.5)\n",
    "ax2.set_aspect('equal')\n",
    "ax2.arrow(7, 0, 3, 0, head_width=0.1, head_length=0.1, fc='k', ec='k')\n",
    "ax2.arrow(7, 0, 0, 3, head_width=0.1, head_length=0.1, fc='k', ec='k')\n",
    "ax2.text(10, -0.2, r'$x$', ha='center', va='center')\n",
    "ax2.text(6.8, 3, r'$y$', ha='center', va='center')\n",
    "ax2.text(8.5, 3.2, r'\\textbf{Latent Space}', ha='center', va='center')\n",
    "\n",
    "ax2.scatter([8, 9], [1, 2], color='k', s=20)\n",
    "\n",
    "# connecting arrow\n",
    "con = ConnectionPatch(xyA=(3, 1.5), xyB=(7, 1.5), coordsA=\"data\", coordsB=\"data\",\n",
    "                      axesA=ax1, axesB=ax2, arrowstyle=\"-|>\", \n",
    "                      mutation_scale=15, fc=\"k\", ec=\"k\", lw=1)\n",
    "fig.add_artist(con)\n",
    "fig.text(0.5, 0.52, r'\\textit{Encoding}', ha='center', va='center')\n",
    "\n",
    "ax1.axis('off')\n",
    "ax2.axis('off')\n",
    "plt.tight_layout()\n",
    "plt.show()\n",
    "fig.savefig(\"latents.pdf\", bbox_inches='tight')"
   ]
  },
  {
   "cell_type": "code",
   "execution_count": null,
   "metadata": {},
   "outputs": [],
   "source": []
  }
 ],
 "metadata": {
  "kernelspec": {
   "display_name": ".venv",
   "language": "python",
   "name": "python3"
  },
  "language_info": {
   "codemirror_mode": {
    "name": "ipython",
    "version": 3
   },
   "file_extension": ".py",
   "mimetype": "text/x-python",
   "name": "python",
   "nbconvert_exporter": "python",
   "pygments_lexer": "ipython3",
   "version": "3.11.9"
  }
 },
 "nbformat": 4,
 "nbformat_minor": 2
}
