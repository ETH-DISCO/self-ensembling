{
 "cells": [
  {
   "cell_type": "code",
   "execution_count": 5,
   "metadata": {
    "vscode": {
     "languageId": "r"
    }
   },
   "outputs": [
    {
     "name": "stdout",
     "output_type": "stream",
     "text": [
      " [1] \"acc\"                  \"acc_0\"                \"acc_1\"               \n",
      " [4] \"acc_128\"              \"acc_16\"               \"acc_2\"               \n",
      " [7] \"acc_255\"              \"acc_32\"               \"acc_4\"               \n",
      "[10] \"acc_64\"               \"acc_8\"                \"dataset\"             \n",
      "[13] \"mask_colors\"          \"mask_num_concentric\"  \"mask_per_rowcol\"     \n",
      "[16] \"mask_sides\"           \"train_epochs\"         \"train_hcaptcha_ratio\"\n",
      "[19] \"train_opacity\"       \n"
     ]
    }
   ],
   "source": [
    "deps <- c(\"ISLR\", \"ndjson\", \"ggplot2\", \"dplyr\", \"caret\", \"tidyr\", \"gridExtra\", \"data.table\", \"repr\")\n",
    "for (p in deps) {\n",
    "    if (!requireNamespace(p, quietly = TRUE)) {\n",
    "        install.packages(p, repos = \"https://cran.rstudio.com\")\n",
    "    }\n",
    "    library(p, character.only = TRUE)\n",
    "}\n",
    "options(scipen=999)\n",
    "options(repr.plot.width=25, repr.plot.height=25)\n",
    "\n",
    "df <- ndjson::stream_in(\"./resnet.jsonl\")\n",
    "print(names(df))\n"
   ]
  },
  {
   "cell_type": "code",
   "execution_count": null,
   "metadata": {
    "vscode": {
     "languageId": "r"
    }
   },
   "outputs": [],
   "source": []
  }
 ],
 "metadata": {
  "kernelspec": {
   "display_name": "R",
   "language": "R",
   "name": "ir"
  },
  "language_info": {
   "codemirror_mode": "r",
   "file_extension": ".r",
   "mimetype": "text/x-r-source",
   "name": "R",
   "pygments_lexer": "r",
   "version": "4.4.1"
  }
 },
 "nbformat": 4,
 "nbformat_minor": 2
}
